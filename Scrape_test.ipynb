{
 "cells": [
  {
   "cell_type": "code",
   "execution_count": 1,
   "metadata": {},
   "outputs": [],
   "source": [
    "# import dependencies\n",
    "\n",
    "from splinter import Browser\n",
    "from bs4 import BeautifulSoup as bs\n",
    "#import time\n",
    "#import pymysql\n",
    "#pymysql.install_as_MySQLdb()\n",
    "\n",
    "\n",
    "#import pandas as pd\n",
    "from sqlalchemy import create_engine\n",
    "from sqlalchemy.sql import select\n",
    "import mysql_scr\n",
    "\n",
    "\n",
    "from sqlalchemy.ext.automap import automap_base\n",
    "from sqlalchemy.orm import Session\n",
    "from sqlalchemy import func\n",
    "\n"
   ]
  },
  {
   "cell_type": "code",
   "execution_count": 2,
   "metadata": {},
   "outputs": [
    {
     "data": {
      "text/plain": [
       "['nyc_tree', 'tree_species']"
      ]
     },
     "execution_count": 2,
     "metadata": {},
     "output_type": "execute_result"
    }
   ],
   "source": [
    "init_string = (f\"root:{mysql_scr.pw}@localhost:{mysql_scr.dbport}\")\n",
    "\n",
    "engine = create_engine(f\"mysql://{init_string}/tree_db\")\n",
    "\n",
    "Base = automap_base()\n",
    "Base.prepare(engine, reflect=True)\n",
    "Base.classes.keys()"
   ]
  },
  {
   "cell_type": "code",
   "execution_count": 3,
   "metadata": {},
   "outputs": [
    {
     "name": "stdout",
     "output_type": "stream",
     "text": [
      "[]\n"
     ]
    }
   ],
   "source": [
    "#initialize base\n",
    "Tree = Base.classes.tree_species\n",
    "session = Session(engine)\n",
    "Tree_species = session.query(Tree.species_nm).all()\n",
    "\n",
    "#declare tree_list variable and append from database table\n",
    "tree_list = []\n",
    "\n",
    "for tree in Tree_species:\n",
    "    tree_list.append(tree.species_nm)\n",
    "    \n",
    "print(tree_list)\n",
    "\n",
    "#text = session.query(func.lower(func.replace(Tree.species_nm,' ','')).label(\"species_nm\"))\n",
    "#for i in text:\n",
    "    #print(i.species_nm)"
   ]
  },
  {
   "cell_type": "code",
   "execution_count": null,
   "metadata": {},
   "outputs": [],
   "source": [
    "#Create webkey (will be replaced) for looking up to website\n",
    "trees  = [x.replace(' ','').lower() for x in tree_list]\n",
    "\n",
    "for i in trees:\n",
    "    print (i)"
   ]
  },
  {
   "cell_type": "code",
   "execution_count": 6,
   "metadata": {},
   "outputs": [],
   "source": [
    "#Open brower connection\n",
    "\n",
    "executable_path = {'executable_path': 'chromedriver.exe'}\n",
    "browser = Browser('chrome', **executable_path, headless=False)\n"
   ]
  },
  {
   "cell_type": "code",
   "execution_count": 7,
   "metadata": {},
   "outputs": [],
   "source": []
  },
  {
   "cell_type": "code",
   "execution_count": 8,
   "metadata": {},
   "outputs": [],
   "source": [
    "#declare url and parser\n",
    "url = \"http://leafsnap.com/species/\"\n",
    "browser.visit(url)\n",
    "html = browser.html\n",
    "soup = bs(html, \"html.parser\")"
   ]
  },
  {
   "cell_type": "code",
   "execution_count": 11,
   "metadata": {},
   "outputs": [],
   "source": [
    "#Get webscraping!\n",
    "#Get div data related to the first species tab\n",
    "ne_species = soup.find('div', id='species-1')"
   ]
  },
  {
   "cell_type": "code",
   "execution_count": 18,
   "metadata": {},
   "outputs": [
    {
     "name": "stdout",
     "output_type": "stream",
     "text": [
      "http://api.leafsnap.com/v1/species/Gleditsia%20triacanthos/images/LTV-EJF-00422_crop.jpg?crop=-158,64,1221,1444&h=150&w=150\n",
      "Honeylocust\n",
      "Gleditsia triacanthos/\n",
      "Woodland edges and open areas. Deciduous tree growing to 30 m tall, with open crown. Late spring. Up to 100 years.\n",
      "http://api.leafsnap.com/v1/species/Platanus%20acerifolia/images/LTV-RBD-06693_crop.jpg?crop=11,89,1063,1140&h=150&w=150\n",
      "London Plane  Tree\n",
      "Platanus acerifolia/\n",
      "Planted as an ornamental, growing best in full sun. Deciduous tree, growing 21-30 m tall or higher. Late spring. Long-lived.\n"
     ]
    }
   ],
   "source": [
    "#find all tr rows to loop through the data\n",
    "species = ne_species.table.tbody.find_all('tr')\n",
    "\n",
    "for td in species:\n",
    "    img = td.find_all('img')\n",
    "    name = td.find_all('td')\n",
    "    link = td.find_all('a')\n",
    "    qry_name = name[3].text.replace(\" \", \"\").lower()\n",
    "    \n",
    "    #check to see if web tree is in sql tree\n",
    "    if qry_name in trees:\n",
    "        image_link = img[0]['src']\n",
    "        web_name = name[3].text\n",
    "        print(image_link)\n",
    "        print(name[3].text)\n",
    "        print(link[0]['href'])\n",
    "        \n",
    "        ## update sql table\n",
    "        session.query(Tree.img_loc)\\\n",
    "                .filter(func.lower(func.replace(Tree.species_nm,' ','')) == qry_name)\n",
    "                \\.update({\"img_loc\":image_link, \"web_common_nm\":web_name}, synchronize_session='fetch')\n",
    "        session.commit()\n",
    "\n",
    "        ## go to tree data page\n",
    "        browser.click_link_by_partial_href(link[0]['href'])\n",
    "        \n",
    "        #get new webpage html and parse\n",
    "        html_species = browser.html\n",
    "        soup_species = bs(html_species, \"html.parser\")\n",
    "        \n",
    "        tree = soup_species.find_all('dd')\n",
    "\n",
    "        habitat = tree[0].text\n",
    "        growth = tree[1].text\n",
    "        bloom = tree[2].text\n",
    "        longevity = tree[3].text\n",
    "        \n",
    "        session.query(Tree.habitat, Tree.growth_habit, Tree.bloom_time, Tree.longevity )\\\n",
    "                .filter(func.lower(func.replace(Tree.species_nm,' ','')) == qry_name)\\\n",
    "                .update({\"habitat\":habitat, \"growth_habit\": growth, \"bloom_time\": bloom, \"longevity\": longevity}, synchronize_session='fetch')\n",
    "\n",
    "        session.commit()\n",
    "        print(habitat, growth, bloom, longevity)\n",
    " \n",
    "        browser.back()\n",
    "\n",
    "        "
   ]
  },
  {
   "cell_type": "code",
   "execution_count": 88,
   "metadata": {},
   "outputs": [],
   "source": []
  },
  {
   "cell_type": "code",
   "execution_count": null,
   "metadata": {},
   "outputs": [],
   "source": []
  }
 ],
 "metadata": {
  "kernelspec": {
   "display_name": "Python 3",
   "language": "python",
   "name": "python3"
  },
  "language_info": {
   "codemirror_mode": {
    "name": "ipython",
    "version": 3
   },
   "file_extension": ".py",
   "mimetype": "text/x-python",
   "name": "python",
   "nbconvert_exporter": "python",
   "pygments_lexer": "ipython3",
   "version": "3.6.6"
  }
 },
 "nbformat": 4,
 "nbformat_minor": 2
}
