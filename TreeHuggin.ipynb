{
 "cells": [
  {
   "cell_type": "markdown",
   "metadata": {},
   "source": [
    "# It's Tree Huggin' Time!"
   ]
  },
  {
   "cell_type": "markdown",
   "metadata": {},
   "source": [
    "#### Before you begin:\n",
    "* This notebook will establish a MySQL connection, create a database, its\n",
    "associated tables, without the use of the MySQL UI. Please make sure to \n",
    "have mysqlclient installed by running \n",
    "```pip install mysqlclient``` \n",
    "in your python runtime environment.\n",
    "* The data set for NYC Trees is rather large and is not stored in this repository, please go to [Kaggle](https://www.kaggle.com/new-york-city/ny-2015-street-tree-census-tree-data/version/12) and download to the resources folder within this repository.\n",
    "* Remember to insert you password in mysql_scr.py (please do not alter the other variables)\n",
    "* Let's get tree huggin'"
   ]
  },
  {
   "cell_type": "code",
   "execution_count": 1,
   "metadata": {},
   "outputs": [],
   "source": [
    "# import dependencies\n",
    "import pandas as pd\n",
    "from sqlalchemy import create_engine\n",
    "import mysql_scr\n",
    "import numpy as np\n",
    "from sqlalchemy.ext.automap import automap_base\n",
    "from sqlalchemy.orm import Session\n",
    "from sqlalchemy import create_engine\n",
    "import os"
   ]
  },
  {
   "cell_type": "code",
   "execution_count": 2,
   "metadata": {},
   "outputs": [],
   "source": [
    "# set up mysql initial connections\n",
    "init_string = (f\"root:{mysql_scr.pw}@localhost\")\n",
    "pre_engine = create_engine(f\"mysql://{init_string}\")"
   ]
  },
  {
   "cell_type": "code",
   "execution_count": 3,
   "metadata": {},
   "outputs": [
    {
     "data": {
      "text/plain": [
       "<sqlalchemy.engine.result.ResultProxy at 0x10d0012b0>"
      ]
     },
     "execution_count": 3,
     "metadata": {},
     "output_type": "execute_result"
    }
   ],
   "source": [
    "# create mysql db\n",
    "pre_engine.execute(f\"{mysql_scr.create_db}\")"
   ]
  },
  {
   "cell_type": "code",
   "execution_count": 4,
   "metadata": {},
   "outputs": [
    {
     "data": {
      "text/plain": [
       "<sqlalchemy.engine.result.ResultProxy at 0x10d015208>"
      ]
     },
     "execution_count": 4,
     "metadata": {},
     "output_type": "execute_result"
    }
   ],
   "source": [
    "# initialize new mysql db connection\n",
    "engine = create_engine(f\"mysql://{init_string}/tree_db\")\n",
    "engine.execute(f\"{mysql_scr.create_tbl}\")"
   ]
  },
  {
   "cell_type": "code",
   "execution_count": 5,
   "metadata": {},
   "outputs": [
    {
     "data": {
      "text/plain": [
       "['nyc_tree', 'tree_species']"
      ]
     },
     "execution_count": 5,
     "metadata": {},
     "output_type": "execute_result"
    }
   ],
   "source": [
    "# check if tables exist...\n",
    "engine.table_names()"
   ]
  },
  {
   "cell_type": "code",
   "execution_count": 6,
   "metadata": {},
   "outputs": [],
   "source": [
    "# set file\n",
    "file = os.path.join(\"Resources\",\"2015-street-tree-census-tree-data.csv\")"
   ]
  },
  {
   "cell_type": "code",
   "execution_count": 7,
   "metadata": {},
   "outputs": [
    {
     "data": {
      "text/html": [
       "<div>\n",
       "<style scoped>\n",
       "    .dataframe tbody tr th:only-of-type {\n",
       "        vertical-align: middle;\n",
       "    }\n",
       "\n",
       "    .dataframe tbody tr th {\n",
       "        vertical-align: top;\n",
       "    }\n",
       "\n",
       "    .dataframe thead th {\n",
       "        text-align: right;\n",
       "    }\n",
       "</style>\n",
       "<table border=\"1\" class=\"dataframe\">\n",
       "  <thead>\n",
       "    <tr style=\"text-align: right;\">\n",
       "      <th></th>\n",
       "      <th>tree_id</th>\n",
       "      <th>block_id</th>\n",
       "      <th>created_at</th>\n",
       "      <th>tree_dbh</th>\n",
       "      <th>stump_diam</th>\n",
       "      <th>curb_loc</th>\n",
       "      <th>status</th>\n",
       "      <th>health</th>\n",
       "      <th>spc_latin</th>\n",
       "      <th>spc_common</th>\n",
       "      <th>...</th>\n",
       "      <th>boro_ct</th>\n",
       "      <th>state</th>\n",
       "      <th>latitude</th>\n",
       "      <th>longitude</th>\n",
       "      <th>x_sp</th>\n",
       "      <th>y_sp</th>\n",
       "      <th>council district</th>\n",
       "      <th>census tract</th>\n",
       "      <th>bin</th>\n",
       "      <th>bbl</th>\n",
       "    </tr>\n",
       "  </thead>\n",
       "  <tbody>\n",
       "    <tr>\n",
       "      <th>0</th>\n",
       "      <td>180683</td>\n",
       "      <td>348711</td>\n",
       "      <td>2015-08-27T00:00:00</td>\n",
       "      <td>3</td>\n",
       "      <td>0</td>\n",
       "      <td>OnCurb</td>\n",
       "      <td>Alive</td>\n",
       "      <td>Fair</td>\n",
       "      <td>Acer rubrum</td>\n",
       "      <td>red maple</td>\n",
       "      <td>...</td>\n",
       "      <td>4073900</td>\n",
       "      <td>New York</td>\n",
       "      <td>40.723092</td>\n",
       "      <td>-73.844215</td>\n",
       "      <td>1027431.148</td>\n",
       "      <td>202756.7687</td>\n",
       "      <td>29.0</td>\n",
       "      <td>739.0</td>\n",
       "      <td>4052307.0</td>\n",
       "      <td>4.022210e+09</td>\n",
       "    </tr>\n",
       "    <tr>\n",
       "      <th>1</th>\n",
       "      <td>200540</td>\n",
       "      <td>315986</td>\n",
       "      <td>2015-09-03T00:00:00</td>\n",
       "      <td>21</td>\n",
       "      <td>0</td>\n",
       "      <td>OnCurb</td>\n",
       "      <td>Alive</td>\n",
       "      <td>Fair</td>\n",
       "      <td>Quercus palustris</td>\n",
       "      <td>pin oak</td>\n",
       "      <td>...</td>\n",
       "      <td>4097300</td>\n",
       "      <td>New York</td>\n",
       "      <td>40.794111</td>\n",
       "      <td>-73.818679</td>\n",
       "      <td>1034455.701</td>\n",
       "      <td>228644.8374</td>\n",
       "      <td>19.0</td>\n",
       "      <td>973.0</td>\n",
       "      <td>4101931.0</td>\n",
       "      <td>4.044750e+09</td>\n",
       "    </tr>\n",
       "    <tr>\n",
       "      <th>2</th>\n",
       "      <td>204026</td>\n",
       "      <td>218365</td>\n",
       "      <td>2015-09-05T00:00:00</td>\n",
       "      <td>3</td>\n",
       "      <td>0</td>\n",
       "      <td>OnCurb</td>\n",
       "      <td>Alive</td>\n",
       "      <td>Good</td>\n",
       "      <td>Gleditsia triacanthos var. inermis</td>\n",
       "      <td>honeylocust</td>\n",
       "      <td>...</td>\n",
       "      <td>3044900</td>\n",
       "      <td>New York</td>\n",
       "      <td>40.717581</td>\n",
       "      <td>-73.936608</td>\n",
       "      <td>1001822.831</td>\n",
       "      <td>200716.8913</td>\n",
       "      <td>34.0</td>\n",
       "      <td>449.0</td>\n",
       "      <td>3338310.0</td>\n",
       "      <td>3.028870e+09</td>\n",
       "    </tr>\n",
       "    <tr>\n",
       "      <th>3</th>\n",
       "      <td>204337</td>\n",
       "      <td>217969</td>\n",
       "      <td>2015-09-05T00:00:00</td>\n",
       "      <td>10</td>\n",
       "      <td>0</td>\n",
       "      <td>OnCurb</td>\n",
       "      <td>Alive</td>\n",
       "      <td>Good</td>\n",
       "      <td>Gleditsia triacanthos var. inermis</td>\n",
       "      <td>honeylocust</td>\n",
       "      <td>...</td>\n",
       "      <td>3044900</td>\n",
       "      <td>New York</td>\n",
       "      <td>40.713537</td>\n",
       "      <td>-73.934456</td>\n",
       "      <td>1002420.358</td>\n",
       "      <td>199244.2531</td>\n",
       "      <td>34.0</td>\n",
       "      <td>449.0</td>\n",
       "      <td>3338342.0</td>\n",
       "      <td>3.029250e+09</td>\n",
       "    </tr>\n",
       "    <tr>\n",
       "      <th>4</th>\n",
       "      <td>189565</td>\n",
       "      <td>223043</td>\n",
       "      <td>2015-08-30T00:00:00</td>\n",
       "      <td>21</td>\n",
       "      <td>0</td>\n",
       "      <td>OnCurb</td>\n",
       "      <td>Alive</td>\n",
       "      <td>Good</td>\n",
       "      <td>Tilia americana</td>\n",
       "      <td>American linden</td>\n",
       "      <td>...</td>\n",
       "      <td>3016500</td>\n",
       "      <td>New York</td>\n",
       "      <td>40.666778</td>\n",
       "      <td>-73.975979</td>\n",
       "      <td>990913.775</td>\n",
       "      <td>182202.4260</td>\n",
       "      <td>39.0</td>\n",
       "      <td>165.0</td>\n",
       "      <td>3025654.0</td>\n",
       "      <td>3.010850e+09</td>\n",
       "    </tr>\n",
       "  </tbody>\n",
       "</table>\n",
       "<p>5 rows × 45 columns</p>\n",
       "</div>"
      ],
      "text/plain": [
       "   tree_id  block_id           created_at  tree_dbh  stump_diam curb_loc  \\\n",
       "0   180683    348711  2015-08-27T00:00:00         3           0   OnCurb   \n",
       "1   200540    315986  2015-09-03T00:00:00        21           0   OnCurb   \n",
       "2   204026    218365  2015-09-05T00:00:00         3           0   OnCurb   \n",
       "3   204337    217969  2015-09-05T00:00:00        10           0   OnCurb   \n",
       "4   189565    223043  2015-08-30T00:00:00        21           0   OnCurb   \n",
       "\n",
       "  status health                           spc_latin       spc_common  \\\n",
       "0  Alive   Fair                         Acer rubrum        red maple   \n",
       "1  Alive   Fair                   Quercus palustris          pin oak   \n",
       "2  Alive   Good  Gleditsia triacanthos var. inermis      honeylocust   \n",
       "3  Alive   Good  Gleditsia triacanthos var. inermis      honeylocust   \n",
       "4  Alive   Good                     Tilia americana  American linden   \n",
       "\n",
       "       ...       boro_ct     state   latitude  longitude         x_sp  \\\n",
       "0      ...       4073900  New York  40.723092 -73.844215  1027431.148   \n",
       "1      ...       4097300  New York  40.794111 -73.818679  1034455.701   \n",
       "2      ...       3044900  New York  40.717581 -73.936608  1001822.831   \n",
       "3      ...       3044900  New York  40.713537 -73.934456  1002420.358   \n",
       "4      ...       3016500  New York  40.666778 -73.975979   990913.775   \n",
       "\n",
       "          y_sp council district census tract        bin           bbl  \n",
       "0  202756.7687             29.0        739.0  4052307.0  4.022210e+09  \n",
       "1  228644.8374             19.0        973.0  4101931.0  4.044750e+09  \n",
       "2  200716.8913             34.0        449.0  3338310.0  3.028870e+09  \n",
       "3  199244.2531             34.0        449.0  3338342.0  3.029250e+09  \n",
       "4  182202.4260             39.0        165.0  3025654.0  3.010850e+09  \n",
       "\n",
       "[5 rows x 45 columns]"
      ]
     },
     "execution_count": 7,
     "metadata": {},
     "output_type": "execute_result"
    }
   ],
   "source": [
    "tree_data = pd.read_csv(file)\n",
    "tree_data.head()"
   ]
  },
  {
   "cell_type": "code",
   "execution_count": 8,
   "metadata": {},
   "outputs": [
    {
     "data": {
      "text/html": [
       "<div>\n",
       "<style scoped>\n",
       "    .dataframe tbody tr th:only-of-type {\n",
       "        vertical-align: middle;\n",
       "    }\n",
       "\n",
       "    .dataframe tbody tr th {\n",
       "        vertical-align: top;\n",
       "    }\n",
       "\n",
       "    .dataframe thead th {\n",
       "        text-align: right;\n",
       "    }\n",
       "</style>\n",
       "<table border=\"1\" class=\"dataframe\">\n",
       "  <thead>\n",
       "    <tr style=\"text-align: right;\">\n",
       "      <th></th>\n",
       "      <th>postcode</th>\n",
       "      <th>spc_common</th>\n",
       "      <th>spc_latin</th>\n",
       "      <th>tree_dbh</th>\n",
       "    </tr>\n",
       "  </thead>\n",
       "  <tbody>\n",
       "    <tr>\n",
       "      <th>0</th>\n",
       "      <td>11375</td>\n",
       "      <td>red maple</td>\n",
       "      <td>Acer rubrum</td>\n",
       "      <td>3</td>\n",
       "    </tr>\n",
       "    <tr>\n",
       "      <th>1</th>\n",
       "      <td>11357</td>\n",
       "      <td>pin oak</td>\n",
       "      <td>Quercus palustris</td>\n",
       "      <td>21</td>\n",
       "    </tr>\n",
       "    <tr>\n",
       "      <th>2</th>\n",
       "      <td>11211</td>\n",
       "      <td>honeylocust</td>\n",
       "      <td>Gleditsia triacanthos var. inermis</td>\n",
       "      <td>3</td>\n",
       "    </tr>\n",
       "    <tr>\n",
       "      <th>3</th>\n",
       "      <td>11211</td>\n",
       "      <td>honeylocust</td>\n",
       "      <td>Gleditsia triacanthos var. inermis</td>\n",
       "      <td>10</td>\n",
       "    </tr>\n",
       "    <tr>\n",
       "      <th>4</th>\n",
       "      <td>11215</td>\n",
       "      <td>American linden</td>\n",
       "      <td>Tilia americana</td>\n",
       "      <td>21</td>\n",
       "    </tr>\n",
       "  </tbody>\n",
       "</table>\n",
       "</div>"
      ],
      "text/plain": [
       "   postcode       spc_common                           spc_latin  tree_dbh\n",
       "0     11375        red maple                         Acer rubrum         3\n",
       "1     11357          pin oak                   Quercus palustris        21\n",
       "2     11211      honeylocust  Gleditsia triacanthos var. inermis         3\n",
       "3     11211      honeylocust  Gleditsia triacanthos var. inermis        10\n",
       "4     11215  American linden                     Tilia americana        21"
      ]
     },
     "execution_count": 8,
     "metadata": {},
     "output_type": "execute_result"
    }
   ],
   "source": [
    "#obtain desired columns\n",
    "tree_data = tree_data[['postcode','spc_common','spc_latin','tree_dbh']]\n",
    "#clean data\n",
    "tree_data_drop = tree_data.dropna()\n",
    "tree_data_clean = tree_data_drop.drop_duplicates()\n",
    "\n",
    "tree_data_clean.head()"
   ]
  },
  {
   "cell_type": "code",
   "execution_count": 9,
   "metadata": {},
   "outputs": [
    {
     "data": {
      "text/html": [
       "<div>\n",
       "<style scoped>\n",
       "    .dataframe tbody tr th:only-of-type {\n",
       "        vertical-align: middle;\n",
       "    }\n",
       "\n",
       "    .dataframe tbody tr th {\n",
       "        vertical-align: top;\n",
       "    }\n",
       "\n",
       "    .dataframe thead th {\n",
       "        text-align: right;\n",
       "    }\n",
       "</style>\n",
       "<table border=\"1\" class=\"dataframe\">\n",
       "  <thead>\n",
       "    <tr style=\"text-align: right;\">\n",
       "      <th></th>\n",
       "      <th>postcode</th>\n",
       "      <th>spc_common</th>\n",
       "      <th>tree_count</th>\n",
       "      <th>tree_dbh</th>\n",
       "    </tr>\n",
       "  </thead>\n",
       "  <tbody>\n",
       "    <tr>\n",
       "      <th>0</th>\n",
       "      <td>83</td>\n",
       "      <td>American beech</td>\n",
       "      <td>2</td>\n",
       "      <td>7.500000</td>\n",
       "    </tr>\n",
       "    <tr>\n",
       "      <th>1</th>\n",
       "      <td>83</td>\n",
       "      <td>American elm</td>\n",
       "      <td>44</td>\n",
       "      <td>23.522727</td>\n",
       "    </tr>\n",
       "  </tbody>\n",
       "</table>\n",
       "</div>"
      ],
      "text/plain": [
       "   postcode      spc_common  tree_count   tree_dbh\n",
       "0        83  American beech           2   7.500000\n",
       "1        83    American elm          44  23.522727"
      ]
     },
     "execution_count": 9,
     "metadata": {},
     "output_type": "execute_result"
    }
   ],
   "source": [
    "#obtain average tree diameter\n",
    "tree_info = tree_data_clean.groupby(['postcode','spc_common'])\n",
    "tree_diam = pd.DataFrame(tree_info['tree_dbh'].mean())\n",
    "\n",
    "#obtain number of tree type in postcode\n",
    "\n",
    "tree_quantity = pd.DataFrame(tree_data_clean.groupby(['postcode','spc_common']).size())\n",
    "\n",
    "tree_summary = tree_quantity.join(tree_diam).reset_index()\n",
    "tree_summary = tree_summary.rename(columns={0:'tree_count'})\n",
    "tree_summary.head(2)"
   ]
  },
  {
   "cell_type": "code",
   "execution_count": 10,
   "metadata": {},
   "outputs": [
    {
     "data": {
      "text/html": [
       "<div>\n",
       "<style scoped>\n",
       "    .dataframe tbody tr th:only-of-type {\n",
       "        vertical-align: middle;\n",
       "    }\n",
       "\n",
       "    .dataframe tbody tr th {\n",
       "        vertical-align: top;\n",
       "    }\n",
       "\n",
       "    .dataframe thead th {\n",
       "        text-align: right;\n",
       "    }\n",
       "</style>\n",
       "<table border=\"1\" class=\"dataframe\">\n",
       "  <thead>\n",
       "    <tr style=\"text-align: right;\">\n",
       "      <th></th>\n",
       "      <th>zip_code</th>\n",
       "      <th>species_nm</th>\n",
       "      <th>count_tree</th>\n",
       "      <th>avg_diameter</th>\n",
       "    </tr>\n",
       "  </thead>\n",
       "  <tbody>\n",
       "    <tr>\n",
       "      <th>0</th>\n",
       "      <td>83</td>\n",
       "      <td>American beech</td>\n",
       "      <td>2</td>\n",
       "      <td>7.500000</td>\n",
       "    </tr>\n",
       "    <tr>\n",
       "      <th>1</th>\n",
       "      <td>83</td>\n",
       "      <td>American elm</td>\n",
       "      <td>44</td>\n",
       "      <td>23.522727</td>\n",
       "    </tr>\n",
       "    <tr>\n",
       "      <th>2</th>\n",
       "      <td>83</td>\n",
       "      <td>Callery pear</td>\n",
       "      <td>3</td>\n",
       "      <td>7.000000</td>\n",
       "    </tr>\n",
       "    <tr>\n",
       "      <th>3</th>\n",
       "      <td>83</td>\n",
       "      <td>Chinese elm</td>\n",
       "      <td>3</td>\n",
       "      <td>21.333333</td>\n",
       "    </tr>\n",
       "    <tr>\n",
       "      <th>4</th>\n",
       "      <td>83</td>\n",
       "      <td>Japanese zelkova</td>\n",
       "      <td>24</td>\n",
       "      <td>20.916667</td>\n",
       "    </tr>\n",
       "  </tbody>\n",
       "</table>\n",
       "</div>"
      ],
      "text/plain": [
       "   zip_code        species_nm  count_tree  avg_diameter\n",
       "0        83    American beech           2      7.500000\n",
       "1        83      American elm          44     23.522727\n",
       "2        83      Callery pear           3      7.000000\n",
       "3        83       Chinese elm           3     21.333333\n",
       "4        83  Japanese zelkova          24     20.916667"
      ]
     },
     "execution_count": 10,
     "metadata": {},
     "output_type": "execute_result"
    }
   ],
   "source": [
    "#rename columns to match database table\n",
    "tree_transformed = tree_summary.rename(columns = {'postcode':'zip_code',\n",
    "                              'spc_common': 'species_nm',\n",
    "                              'tree_count': 'count_tree',\n",
    "                              'tree_dbh': 'avg_diameter'})\n",
    "tree_transformed.head()"
   ]
  },
  {
   "cell_type": "code",
   "execution_count": 11,
   "metadata": {},
   "outputs": [],
   "source": [
    "#load dataframe to database\n",
    "tree_transformed.to_sql(name='nyc_tree',con=engine,if_exists='append',index=False)"
   ]
  },
  {
   "cell_type": "code",
   "execution_count": 15,
   "metadata": {},
   "outputs": [
    {
     "name": "stdout",
     "output_type": "stream",
     "text": [
      "(1, 83, 'American beech', 2, 8)\n",
      "(2, 83, 'American elm', 44, 24)\n",
      "(3, 83, 'Callery pear', 3, 7)\n",
      "(4, 83, 'Chinese elm', 3, 21)\n",
      "(5, 83, 'Japanese zelkova', 24, 21)\n",
      "(6, 83, 'London planetree', 10, 11)\n",
      "(7, 83, 'Sophora', 2, 11)\n",
      "(8, 83, 'ginkgo', 27, 15)\n",
      "(9, 83, 'honeylocust', 6, 17)\n",
      "(10, 83, 'littleleaf linden', 3, 5)\n",
      "(11, 83, 'northern red oak', 1, 7)\n",
      "(12, 83, 'pin oak', 35, 21)\n",
      "(13, 10001, \"'Schubert' chokecherry\", 3, 4)\n",
      "(14, 10001, 'American elm', 14, 11)\n",
      "(15, 10001, 'American hophornbeam', 1, 2)\n",
      "(16, 10001, 'American linden', 5, 5)\n",
      "(17, 10001, 'Amur maple', 1, 4)\n",
      "(18, 10001, 'Callery pear', 18, 10)\n",
      "(19, 10001, 'Chinese elm', 1, 14)\n",
      "(20, 10001, 'English oak', 1, 4)\n"
     ]
    }
   ],
   "source": [
    "# validate import\n",
    "result = engine.execute('Select * from nyc_tree limit 20')\n",
    "for r in result:\n",
    "    print(r)"
   ]
  },
  {
   "cell_type": "code",
   "execution_count": null,
   "metadata": {},
   "outputs": [],
   "source": []
  }
 ],
 "metadata": {
  "kernelspec": {
   "display_name": "Python 3",
   "language": "python",
   "name": "python3"
  },
  "language_info": {
   "codemirror_mode": {
    "name": "ipython",
    "version": 3
   },
   "file_extension": ".py",
   "mimetype": "text/x-python",
   "name": "python",
   "nbconvert_exporter": "python",
   "pygments_lexer": "ipython3",
   "version": "3.6.5"
  }
 },
 "nbformat": 4,
 "nbformat_minor": 2
}
