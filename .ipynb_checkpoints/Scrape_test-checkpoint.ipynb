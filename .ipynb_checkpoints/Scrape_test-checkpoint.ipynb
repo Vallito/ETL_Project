{
 "cells": [
  {
   "cell_type": "code",
   "execution_count": 116,
   "metadata": {},
   "outputs": [],
   "source": [
    "from splinter import Browser\n",
    "from bs4 import BeautifulSoup as bs\n",
    "import time\n",
    "\n",
    "executable_path = {'executable_path': 'chromedriver.exe'}\n",
    "browser = Browser('chrome', **executable_path, headless=False)\n",
    "\n"
   ]
  },
  {
   "cell_type": "code",
   "execution_count": 122,
   "metadata": {},
   "outputs": [
    {
     "name": "stdout",
     "output_type": "stream",
     "text": [
      "londonplanetree\n",
      "honeylocust\n",
      "ash\n"
     ]
    }
   ],
   "source": [
    "tree_list = ['London Plane Tree','Honeylocust','ash']\n",
    "\n",
    "\n",
    "trees  = [x.replace(' ','').lower() for x in tree_list]\n",
    "\n",
    "for tree in trees:\n",
    "    print (tree)"
   ]
  },
  {
   "cell_type": "code",
   "execution_count": 118,
   "metadata": {},
   "outputs": [],
   "source": [
    "\n",
    "url = \"http://leafsnap.com/species/\"\n",
    "browser.visit(url)\n",
    "html = browser.html\n",
    "soup = bs(html, \"html.parser\")"
   ]
  },
  {
   "cell_type": "code",
   "execution_count": 119,
   "metadata": {},
   "outputs": [],
   "source": [
    "\n",
    "ne_species = soup.find('div', id='species-1')\n",
    "#print(ne_species)"
   ]
  },
  {
   "cell_type": "code",
   "execution_count": 123,
   "metadata": {},
   "outputs": [
    {
     "name": "stdout",
     "output_type": "stream",
     "text": [
      "http://api.leafsnap.com/v1/species/Gleditsia%20triacanthos/images/LTV-EJF-00422_crop.jpg?crop=-158,64,1221,1444&h=150&w=150\n",
      "Honeylocust\n",
      "Gleditsia triacanthos/\n",
      "Woodland edges and open areas. Deciduous tree growing to 30 m tall, with open crown. Late spring. Up to 100 years.\n",
      "http://api.leafsnap.com/v1/species/Platanus%20acerifolia/images/LTV-RBD-06693_crop.jpg?crop=11,89,1063,1140&h=150&w=150\n",
      "London Plane  Tree\n",
      "Platanus acerifolia/\n",
      "Planted as an ornamental, growing best in full sun. Deciduous tree, growing 21-30 m tall or higher. Late spring. Long-lived.\n"
     ]
    }
   ],
   "source": [
    "\n",
    "    # Get the min avg temp\n",
    "species = ne_species.table.tbody.find_all('tr')\n",
    "#print(species)\n",
    "for td in species:\n",
    "    #leaf = species[0].text\n",
    "    img = td.find_all('img')\n",
    "    name = td.find_all('td')\n",
    "    link = td.find_all('a')\n",
    "    #print(name[3].text.replace(\" \", \"\"))\n",
    "    #print(name[3].text)\n",
    "    if name[3].text.replace(\" \", \"\").lower() in trees:\n",
    "        print(img[0]['src'])\n",
    "        print(name[3].text)\n",
    "        print(link[0]['href'])\n",
    "        \n",
    "        ## Get Species Data\n",
    "        browser.click_link_by_partial_href(link[0]['href'])\n",
    "        #  species_url = \"http://leafsnap.com/species/\"+ link[0]['href']\n",
    "        #  browser.visit(species_url)\n",
    "        html_species = browser.html\n",
    "        soup_species = bs(html_species, \"html.parser\")\n",
    "        \n",
    "        tree = soup_species.find_all('dd')\n",
    "        #print(tree)\n",
    "        habitat = tree[0].text\n",
    "        growth = tree[1].text\n",
    "        bloom = tree[2].text\n",
    "        longevity = tree[3].text\n",
    "        print(habitat, growth, bloom, longevity)\n",
    " \n",
    "            #print(tree.div.find_all('dd')[0])\n",
    "            \n",
    "        \n",
    "        browser.back()\n",
    "        #browser.click_link_by_href('http://leafsnap.com/species/Gleditsia%20triacanthos/')\n",
    "        #browser.click_link_by_partial_text('Gleditsia triacanthos')\n",
    "        "
   ]
  },
  {
   "cell_type": "code",
   "execution_count": 88,
   "metadata": {},
   "outputs": [],
   "source": [
    "browser.back()"
   ]
  },
  {
   "cell_type": "code",
   "execution_count": null,
   "metadata": {},
   "outputs": [],
   "source": []
  }
 ],
 "metadata": {
  "kernelspec": {
   "display_name": "Python 3",
   "language": "python",
   "name": "python3"
  },
  "language_info": {
   "codemirror_mode": {
    "name": "ipython",
    "version": 3
   },
   "file_extension": ".py",
   "mimetype": "text/x-python",
   "name": "python",
   "nbconvert_exporter": "python",
   "pygments_lexer": "ipython3",
   "version": "3.6.6"
  }
 },
 "nbformat": 4,
 "nbformat_minor": 2
}
